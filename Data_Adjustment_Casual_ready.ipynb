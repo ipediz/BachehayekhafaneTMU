{
  "nbformat": 4,
  "nbformat_minor": 0,
  "metadata": {
    "colab": {
      "provenance": [],
      "authorship_tag": "ABX9TyOQ64Pih0i2Nu1ZS/y6gM08",
      "include_colab_link": true
    },
    "kernelspec": {
      "name": "python3",
      "display_name": "Python 3"
    },
    "language_info": {
      "name": "python"
    }
  },
  "cells": [
    {
      "cell_type": "markdown",
      "metadata": {
        "id": "view-in-github",
        "colab_type": "text"
      },
      "source": [
        "<a href=\"https://colab.research.google.com/github/ipediz/BachehayekhafaneTMU/blob/main/Data_Adjustment_Casual_ready.ipynb\" target=\"_parent\"><img src=\"https://colab.research.google.com/assets/colab-badge.svg\" alt=\"Open In Colab\"/></a>"
      ]
    },
    {
      "cell_type": "code",
      "execution_count": null,
      "metadata": {
        "id": "5L1MuS_HS_EW"
      },
      "outputs": [],
      "source": []
    },
    {
      "cell_type": "markdown",
      "source": [
        "Removing the Counties where Lending Club was not available form the Dataset\n"
      ],
      "metadata": {
        "id": "XOEPnDxsTB-L"
      }
    },
    {
      "cell_type": "code",
      "source": [
        "!pip install graphviz\n",
        "!pip install causalinference\n",
        "import warnings\n",
        "warnings.filterwarnings('ignore')\n",
        "\n",
        "import pandas as pd\n",
        "import numpy as np\n",
        "from matplotlib import style\n",
        "from matplotlib import pyplot as plt\n",
        "import seaborn as sns\n",
        "import statsmodels.formula.api as smf\n",
        "from causalinference import CausalModel\n",
        "\n",
        "import graphviz as gr\n",
        "\n",
        "%matplotlib inline\n",
        "\n",
        "style.use(\"fivethirtyeight\")\n",
        "pd.set_option(\"display.max_columns\", 6)"
      ],
      "metadata": {
        "colab": {
          "base_uri": "https://localhost:8080/"
        },
        "id": "OqeVrgF9TUZY",
        "outputId": "50e363c5-a56b-4097-f2cd-6b44f22f199e"
      },
      "execution_count": 9,
      "outputs": [
        {
          "output_type": "stream",
          "name": "stdout",
          "text": [
            "Requirement already satisfied: graphviz in /usr/local/lib/python3.10/dist-packages (0.20.3)\n",
            "Requirement already satisfied: causalinference in /usr/local/lib/python3.10/dist-packages (0.1.3)\n"
          ]
        }
      ]
    },
    {
      "cell_type": "code",
      "source": [
        "\n",
        "Data = pd.read_csv(\"The_new_all_state_replication_data.csv\")\n",
        "Data['interaction'] = Data['interaction'] / 100\n",
        "Data['percent_over_60'] = Data['percent_over_60'] / 100\n",
        "# setting 'county_code' as index and 'new_timeperiod' as time\n",
        "\n"
      ],
      "metadata": {
        "id": "V2FlYvV9Tc-N"
      },
      "execution_count": 10,
      "outputs": []
    },
    {
      "cell_type": "code",
      "source": [
        "# Filter out rows where lending_club_available is 0\n",
        "Data1_filtered_1= Data[Data['lending_club_available'] != 0]\n",
        "\n",
        "# Verify the change\n",
        "print(Data1_filtered_1.head())\n",
        "print(\"Number of rows after filtering:\", Data.shape[0])\n"
      ],
      "metadata": {
        "colab": {
          "base_uri": "https://localhost:8080/"
        },
        "id": "oMf2g7MXUDEk",
        "outputId": "0cdf92c9-2fe0-4449-ecc1-edfa6d1be0fd"
      },
      "execution_count": 14,
      "outputs": [
        {
          "output_type": "stream",
          "name": "stdout",
          "text": [
            "   county_code  new_timeperiod  lending_club_available  ...  \\\n",
            "4         1019               5                       1  ...   \n",
            "5         1019               6                       1  ...   \n",
            "6         1019               7                       1  ...   \n",
            "7         1019               8                       1  ...   \n",
            "8         1019               9                       1  ...   \n",
            "\n",
            "   business_bankruptcy_percapita  percent_over_60  interaction  \n",
            "4                       0.000000         0.248477     0.248477  \n",
            "5                       0.000000         0.248477     0.248477  \n",
            "6                       2.857143         0.248477     0.248477  \n",
            "7                       0.000000         0.248477     0.248477  \n",
            "8                       0.000000         0.265622     0.265622  \n",
            "\n",
            "[5 rows x 33 columns]\n",
            "Number of rows after filtering: 64652\n"
          ]
        }
      ]
    },
    {
      "cell_type": "code",
      "source": [
        "Data1_filtered_1.to_csv(\"Data1_filtered1.csv\", index=False)\n",
        "\n",
        "print(\"Filtered data has been saved to Data1_filtered.csv\")"
      ],
      "metadata": {
        "colab": {
          "base_uri": "https://localhost:8080/"
        },
        "id": "xOelpXouURGt",
        "outputId": "5e99310b-51c3-4dd8-cdfa-2cb65694d368"
      },
      "execution_count": 15,
      "outputs": [
        {
          "output_type": "stream",
          "name": "stdout",
          "text": [
            "Filtered data has been saved to Data1_filtered.csv\n"
          ]
        }
      ]
    },
    {
      "cell_type": "markdown",
      "source": [
        "The reason is, I want to see the effect of % of eldery population on the banckruptcies per capita, when Lending club is available. So, From the rest of the proccess, I will remove the counties where lending club is not available."
      ],
      "metadata": {
        "id": "o3yA-0saVUAo"
      }
    },
    {
      "cell_type": "code",
      "source": [
        "# Calculate mean of 'percent_over_60' for each 'new_timeperiod'\n",
        "mean_percent_over_60_by_timeperiod = Data1_filtered_1.groupby('new_timeperiod')['percent_over_60'].mean()\n",
        "\n",
        "# Display the result\n",
        "print(mean_percent_over_60_by_timeperiod)\n"
      ],
      "metadata": {
        "colab": {
          "base_uri": "https://localhost:8080/"
        },
        "id": "7KwlP8gcVnhF",
        "outputId": "da65ce7e-f2f4-4793-cc0d-a1f537f21cc3"
      },
      "execution_count": 16,
      "outputs": [
        {
          "output_type": "stream",
          "name": "stdout",
          "text": [
            "new_timeperiod\n",
            "5     0.213747\n",
            "6     0.213747\n",
            "7     0.213747\n",
            "8     0.213747\n",
            "9     0.228495\n",
            "10    0.228495\n",
            "11    0.228495\n",
            "12    0.228495\n",
            "13    0.244676\n",
            "14    0.244676\n",
            "15    0.244676\n",
            "16    0.244676\n",
            "17    0.261559\n",
            "18    0.261559\n",
            "19    0.261559\n",
            "20    0.261559\n",
            "21    0.279346\n",
            "22    0.279242\n",
            "23    0.279242\n",
            "24    0.279242\n",
            "25    0.298510\n",
            "26    0.298510\n",
            "27    0.297551\n",
            "28    0.297551\n",
            "Name: percent_over_60, dtype: float64\n"
          ]
        }
      ]
    },
    {
      "cell_type": "markdown",
      "source": [
        "I have the mean of each % over 60 in each county where lendingclub is available. Now, I want to have a binary variable in each county based on low or high % of population over 60."
      ],
      "metadata": {
        "id": "ZuWHKP9gWyhG"
      }
    },
    {
      "cell_type": "code",
      "source": [
        "# Calculate the mean of 'percent_over_60' for each 'new_timeperiod'\n",
        "mean_percent_over_60_by_timeperiod = Data1_filtered_1.groupby('new_timeperiod')['percent_over_60'].mean()\n",
        "\n",
        "# Define a function to assign 0 or 1 based on the condition\n",
        "def assign_low_high(row):\n",
        "    # Check if the value is less than the mean for the given new_timeperiod\n",
        "    if row['percent_over_60'] < mean_percent_over_60_by_timeperiod[row['new_timeperiod']]:\n",
        "        return 0\n",
        "    else:\n",
        "        return 1\n",
        "\n",
        "# Apply the function to each row and create the new column 'Low-High_%_over60'\n",
        "Data1_filtered_1['Low-High_%_over60'] = Data1_filtered_1.apply(assign_low_high, axis=1)\n",
        "\n",
        "# Display the updated DataFrame to verify the changes\n",
        "print(Data1_filtered_1[['county_code', 'new_timeperiod', 'percent_over_60', 'Low-High_%_over60']].head())\n"
      ],
      "metadata": {
        "colab": {
          "base_uri": "https://localhost:8080/"
        },
        "id": "Vd8SssLPXIYQ",
        "outputId": "cb7a48d5-5c9e-4789-953e-00fec3b385ca"
      },
      "execution_count": 18,
      "outputs": [
        {
          "output_type": "stream",
          "name": "stdout",
          "text": [
            "   county_code  new_timeperiod  percent_over_60  Low-High_%_over60\n",
            "4         1019               5         0.248477                  1\n",
            "5         1019               6         0.248477                  1\n",
            "6         1019               7         0.248477                  1\n",
            "7         1019               8         0.248477                  1\n",
            "8         1019               9         0.265622                  1\n"
          ]
        }
      ]
    },
    {
      "cell_type": "code",
      "source": [
        "# Save the updated DataFrame to a CSV file\n",
        "Data1_filtered_1.to_csv(\"All_STATE_CASUAL_READY.csv\", index=False)\n",
        "\n",
        "print(\"The updated data has been saved to 'All_STATE_CASUAL_READY.csv'.\")\n"
      ],
      "metadata": {
        "colab": {
          "base_uri": "https://localhost:8080/"
        },
        "id": "qjAzoViyZE8s",
        "outputId": "66c05fe5-2bcd-4b10-ad8b-7628f684db7b"
      },
      "execution_count": 19,
      "outputs": [
        {
          "output_type": "stream",
          "name": "stdout",
          "text": [
            "The updated data has been saved to 'All_STATE_CASUAL_READY.csv'.\n"
          ]
        }
      ]
    },
    {
      "cell_type": "markdown",
      "source": [
        "Now we have a file, where lendingclub is available, and the %of population over 60 is devided into a binary variable, low and high. (0 and 1)"
      ],
      "metadata": {
        "id": "RBjZpL-HZs7Q"
      }
    },
    {
      "cell_type": "code",
      "source": [],
      "metadata": {
        "id": "4MOEHgEIaLTM"
      },
      "execution_count": null,
      "outputs": []
    }
  ]
}