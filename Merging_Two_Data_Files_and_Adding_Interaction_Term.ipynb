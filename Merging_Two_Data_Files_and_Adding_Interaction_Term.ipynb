{
  "nbformat": 4,
  "nbformat_minor": 0,
  "metadata": {
    "colab": {
      "provenance": [],
      "authorship_tag": "ABX9TyN4lxevBUTPdaeHX7/djojH",
      "include_colab_link": true
    },
    "kernelspec": {
      "name": "python3",
      "display_name": "Python 3"
    },
    "language_info": {
      "name": "python"
    }
  },
  "cells": [
    {
      "cell_type": "markdown",
      "metadata": {
        "id": "view-in-github",
        "colab_type": "text"
      },
      "source": [
        "<a href=\"https://colab.research.google.com/github/ipediz/BachehayekhafaneTMU/blob/main/Merging_Two_Data_Files_and_Adding_Interaction_Term.ipynb\" target=\"_parent\"><img src=\"https://colab.research.google.com/assets/colab-badge.svg\" alt=\"Open In Colab\"/></a>"
      ]
    },
    {
      "cell_type": "markdown",
      "source": [
        "**This code was written with the aid of ChatGPT**\n"
      ],
      "metadata": {
        "id": "Oz3M7_Re9Twj"
      }
    },
    {
      "cell_type": "code",
      "source": [
        "import pandas as pd\n",
        "\n",
        "\n",
        "\n",
        "# Load the datasets\n",
        "expanded_adjusted_path = 'Matching_counties.csv'\n",
        "all_state_path = 'all_state_replication_data.csv'\n",
        "\n",
        "# Load both files\n",
        "expanded_adjusted_df = pd.read_csv(expanded_adjusted_path)\n",
        "all_state_df = pd.read_csv(all_state_path)\n",
        "\n",
        "# Add the percent_over_60 column to the all_state_replication_data.csv\n",
        "all_state_df['percent_over_60'] = expanded_adjusted_df['percent_over_60']\n",
        "\n",
        "# Add a new column called \"interaction\" which is the product of lending_club_available and percent_over_60\n",
        "all_state_df['interaction'] = all_state_df['lending_club_available'] * all_state_df['percent_over_60']\n",
        "\n",
        "# Save the updated file\n",
        "all_state_df.to_csv('The_new_all_state_replication_data.csv', index=False)\n"
      ],
      "metadata": {
        "id": "-7NofXsf9h1w"
      },
      "execution_count": null,
      "outputs": []
    }
  ]
}