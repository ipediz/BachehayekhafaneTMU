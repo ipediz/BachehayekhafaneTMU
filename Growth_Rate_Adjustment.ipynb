{
  "nbformat": 4,
  "nbformat_minor": 0,
  "metadata": {
    "colab": {
      "provenance": [],
      "authorship_tag": "ABX9TyPzrGERECnBEDeWqQM64syJ",
      "include_colab_link": true
    },
    "kernelspec": {
      "name": "python3",
      "display_name": "Python 3"
    },
    "language_info": {
      "name": "python"
    }
  },
  "cells": [
    {
      "cell_type": "markdown",
      "metadata": {
        "id": "view-in-github",
        "colab_type": "text"
      },
      "source": [
        "<a href=\"https://colab.research.google.com/github/ipediz/BachehayekhafaneTMU/blob/main/Growth_Rate_Adjustment.ipynb\" target=\"_parent\"><img src=\"https://colab.research.google.com/assets/colab-badge.svg\" alt=\"Open In Colab\"/></a>"
      ]
    },
    {
      "cell_type": "markdown",
      "source": [
        "**This code was written with the aid of ChatGPT.**"
      ],
      "metadata": {
        "id": "JMfTx8bh8T8h"
      }
    },
    {
      "cell_type": "code",
      "execution_count": null,
      "metadata": {
        "id": "aY3rYKqn8QHR"
      },
      "outputs": [],
      "source": [
        "# Correct logic implementation with all_data_expanded\n",
        "average_yearly_growth = 6.900053552340942/100\n",
        "import pandas as pd\n",
        "data = pd.read_csv(\"FFinal_test.csv\")\n",
        "def apply_growth_correctly(all_data_expanded):\n",
        "    for fips in all_data_expanded['FIPS'].unique():\n",
        "        fips_data = all_data_expanded[all_data_expanded['FIPS'] == fips]\n",
        "        current_value = fips_data.iloc[0]['percent_over_60']  # Starting value at the beginning of 2008\n",
        "\n",
        "        # Loop through the dataset by 4 quarters at a time (1-4, 5-8, 9-12, etc.)\n",
        "        for i in range(0, len(fips_data), 4):  # 4 quarters per year\n",
        "            # Apply growth at the end of the year (4th quarter) and carry forward to the next year's 4 quarters\n",
        "            if i >= 4:\n",
        "                current_value = current_value * (1 + average_yearly_growth)  # Apply growth to the previous year's value\n",
        "\n",
        "            # Propagate the new grown value for the current year's 4 quarters\n",
        "            all_data_expanded.loc[(all_data_expanded['FIPS'] == fips) &\n",
        "                                  (all_data_expanded['Quarter_Sequence'] >= i + 1) &\n",
        "                                  (all_data_expanded['Quarter_Sequence'] <= i + 4), 'percent_over_60'] = current_value\n",
        "\n",
        "    return all_data_expanded\n",
        "\n",
        "# Apply the corrected growth function with all_data_expanded\n",
        "final_data_expanded = apply_growth_correctly(data)\n",
        "\n",
        "# Save the updated file\n",
        "output_file_path_updated = '%Population_above_60_expanded_adjusted.csv'\n",
        "final_data_expanded.to_csv(output_file_path_updated, index=False)\n",
        "\n",
        "output_file_path_updated\n"
      ]
    },
    {
      "cell_type": "markdown",
      "source": [],
      "metadata": {
        "id": "BBmDrf3S8Q-T"
      }
    }
  ]
}