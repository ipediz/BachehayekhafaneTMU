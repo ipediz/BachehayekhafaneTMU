{
  "nbformat": 4,
  "nbformat_minor": 0,
  "metadata": {
    "colab": {
      "provenance": [],
      "authorship_tag": "ABX9TyNwEh8b4dBZwkPUngBgf3y2",
      "include_colab_link": true
    },
    "kernelspec": {
      "name": "python3",
      "display_name": "Python 3"
    },
    "language_info": {
      "name": "python"
    }
  },
  "cells": [
    {
      "cell_type": "markdown",
      "metadata": {
        "id": "view-in-github",
        "colab_type": "text"
      },
      "source": [
        "<a href=\"https://colab.research.google.com/github/ipediz/BachehayekhafaneTMU/blob/main/Panel_OLS_Regression.ipynb\" target=\"_parent\"><img src=\"https://colab.research.google.com/assets/colab-badge.svg\" alt=\"Open In Colab\"/></a>"
      ]
    },
    {
      "cell_type": "markdown",
      "source": [
        "**This code was written with the aid of ChatGPT**"
      ],
      "metadata": {
        "id": "ZumnsmPl7rAt"
      }
    },
    {
      "cell_type": "code",
      "execution_count": null,
      "metadata": {
        "id": "Gshox2fVKPDT"
      },
      "outputs": [],
      "source": [
        "\n",
        "import numpy as np\n",
        "import pandas as pd\n",
        "import statsmodels.api as sm\n",
        "import sklearn.linear_model as lm\n",
        "import statsmodels.formula.api as smf\n",
        "from sklearn.preprocessing import StandardScaler\n",
        "from sklearn.pipeline import Pipeline\n",
        "from sklearn.model_selection import train_test_split\n",
        "from linearmodels.panel import PanelOLS\n",
        "import warnings\n",
        "# ignore potential convergence warnings; for some small penalty levels,\n",
        "# tried out, optimization might not converge\n",
        "warnings.simplefilter('ignore')"
      ]
    },
    {
      "cell_type": "code",
      "source": [
        "Data = pd.read_csv(\"The_new_all_state_replication_data.csv\")\n",
        "Data['interaction'] = Data['interaction'] / 100\n",
        "Data['percent_over_60'] = Data['percent_over_60'] / 100\n",
        "# setting 'county_code' as index and 'new_timeperiod' as time\n",
        "\n"
      ],
      "metadata": {
        "id": "jD9BqCF_a-Zq"
      },
      "execution_count": null,
      "outputs": []
    },
    {
      "cell_type": "code",
      "source": [
        "from tabulate import tabulate\n",
        "#dropping non-relative variables for summary statistics table\n",
        "columns_to_drop = [\n",
        "    'relative_time_m8andbeyond', 'relative_time_m7', 'relative_time_m6', 'relative_time_m5',\n",
        "    'relative_time_m4', 'relative_time_m3', 'relative_time_m2', 'relative_time_m1', 'relative_time_0',\n",
        "    'relative_time_p1', 'relative_time_p2', 'relative_time_p3', 'relative_time_p4',\n",
        "    'relative_time_p5', 'relative_time_p6', 'relative_time_p7', 'relative_time_p8andbeyond'\n",
        "]\n",
        "Data = Data.set_index(['county_code', 'new_timeperiod'])\n",
        "# Create a new dataframe without the specified columns\n",
        "Data1 = Data.drop(columns=columns_to_drop)"
      ],
      "metadata": {
        "id": "PjkeM7WxbXRd"
      },
      "execution_count": null,
      "outputs": []
    },
    {
      "cell_type": "code",
      "source": [
        "# Generate summary statistics for all numerical columns\n",
        "\n",
        "Data1_Summary_Statistics = Data1.describe()\n",
        "\n",
        "# Convert the summary statistics DataFrame to a format that tabulate can handle\n",
        "table = tabulate(Data1_Summary_Statistics, headers=Data1_Summary_Statistics.columns, tablefmt='fancy_grid')\n",
        "\n",
        "# Print the beautiful table\n",
        "print(table)"
      ],
      "metadata": {
        "colab": {
          "base_uri": "https://localhost:8080/"
        },
        "id": "tsn-bQr9bZws",
        "outputId": "49d97c41-929c-498f-8b50-9f055e7219f7"
      },
      "execution_count": null,
      "outputs": [
        {
          "output_type": "stream",
          "name": "stdout",
          "text": [
            "╒═══════╤═══════════════╤══════════════════╤══════════════════════════╤═════════════════════════╤══════════════════╤═════════════════════════╤════════════════════════╤════════════════════╤═══════════════╤═════════════════════════╤══════════════╤═══════════════╤════════════════════════════════════╤═════════════════════════════════╤═══════════════════╤═══════════════╕\n",
            "│       │   county_code │   new_timeperiod │   lending_club_available │   bankruptcy_per_capita │   log_bankruptcy │   population_estimation │   employed_individuals │   monthly_earnings │   labor_force │   medianhouseholdincome │   cem_strata │   cem_weights │   nonbusiness_bankruptcy_percapita │   business_bankruptcy_percapita │   percent_over_60 │   interaction │\n",
            "╞═══════╪═══════════════╪══════════════════╪══════════════════════════╪═════════════════════════╪══════════════════╪═════════════════════════╪════════════════════════╪════════════════════╪═══════════════╪═════════════════════════╪══════════════╪═══════════════╪════════════════════════════════════╪═════════════════════════════════╪═══════════════════╪═══════════════╡\n",
            "│ count │       64652   │      64652       │             64652        │            64652        │      64652       │              64652      │             64630      │       64630        │    64612      │              64640      │    64652     │ 64652         │                       64652        │                     64544       │      64484        │  64484        │\n",
            "├───────┼───────────────┼──────────────────┼──────────────────────────┼─────────────────────────┼──────────────────┼─────────────────────────┼────────────────────────┼────────────────────┼───────────────┼─────────────────────────┼──────────────┼───────────────┼────────────────────────────────────┼─────────────────────────────────┼───────────────────┼───────────────┤\n",
            "│ mean  │       32575.5 │         14.5     │                 0.692848 │                0.652656 │          2.76661 │                 55.9447 │                18.6419 │           3.00744  │       27.6072 │                 44.7482 │       97.1   │     1         │                           0.628244 │                         1.06321 │          0.246874 │      0.177156 │\n",
            "├───────┼───────────────┼──────────────────┼──────────────────────────┼─────────────────────────┼──────────────────┼─────────────────────────┼────────────────────────┼────────────────────┼───────────────┼─────────────────────────┼──────────────┼───────────────┼────────────────────────────────────┼─────────────────────────────────┼───────────────────┼───────────────┤\n",
            "│ std   │       14719.3 │          8.07781 │                 0.461317 │                0.417428 │          1.49301 │                 83.8411 │                33.079  │           0.669118 │       42.667  │                 11.0932 │       72.233 │     0.323447  │                           0.408467 │                         2.37457 │          0.070074 │      0.13224  │\n",
            "├───────┼───────────────┼──────────────────┼──────────────────────────┼─────────────────────────┼──────────────────┼─────────────────────────┼────────────────────────┼────────────────────┼───────────────┼─────────────────────────┼──────────────┼───────────────┼────────────────────────────────────┼─────────────────────────────────┼───────────────────┼───────────────┤\n",
            "│ min   │        1019   │          1       │                 0        │                0        │          0       │                  0.258  │                 0.058  │           1.317    │        0.178  │                 18.86   │        4     │     0.0715347 │                           0        │                         0       │          0.02893  │      0        │\n",
            "├───────┼───────────────┼──────────────────┼──────────────────────────┼─────────────────────────┼──────────────────┼─────────────────────────┼────────────────────────┼────────────────────┼───────────────┼─────────────────────────┼──────────────┼───────────────┼────────────────────────────────────┼─────────────────────────────────┼───────────────────┼───────────────┤\n",
            "│ 25%   │       20151   │          7.75    │                 0        │                0.35423  │          1.79176 │                 10.406  │                 2.552  │           2.576    │        4.938  │                 37.2987 │       29     │     1         │                           0.335756 │                         0       │          0.199135 │      0        │\n",
            "├───────┼───────────────┼──────────────────┼──────────────────────────┼─────────────────────────┼──────────────────┼─────────────────────────┼────────────────────────┼────────────────────┼───────────────┼─────────────────────────┼──────────────┼───────────────┼────────────────────────────────────┼─────────────────────────────────┼───────────────────┼───────────────┤\n",
            "│ 50%   │       32007   │         14.5     │                 1        │                0.605327 │          2.77259 │                 24.286  │                 6.6405 │           2.899    │       11.276  │                 43.018  │       98     │     1         │                           0.581006 │                         0       │          0.23933  │      0.212627 │\n",
            "├───────┼───────────────┼──────────────────┼──────────────────────────┼─────────────────────────┼──────────────────┼─────────────────────────┼────────────────────────┼────────────────────┼───────────────┼─────────────────────────┼──────────────┼───────────────┼────────────────────────────────────┼─────────────────────────────────┼───────────────────┼───────────────┤\n",
            "│ 75%   │       47025   │         21.25    │                 1        │                0.903807 │          3.80666 │                 59.559  │                17.6437 │           3.298    │       28.068  │                 49.9793 │      137     │     1         │                           0.876159 │                         1.43062 │          0.286209 │      0.272031 │\n",
            "├───────┼───────────────┼──────────────────┼──────────────────────────┼─────────────────────────┼──────────────────┼─────────────────────────┼────────────────────────┼────────────────────┼───────────────┼─────────────────────────┼──────────────┼───────────────┼────────────────────────────────────┼─────────────────────────────────┼───────────────────┼───────────────┤\n",
            "│ max   │       56045   │         28       │                 1        │                6.91521  │          7.0859  │                543.985  │               296.765  │          23.761    │      306.147  │                125.635  │      348     │     8.8703    │                           6.61455  │                       142.857   │          0.864226 │      0.864226 │\n",
            "╘═══════╧═══════════════╧══════════════════╧══════════════════════════╧═════════════════════════╧══════════════════╧═════════════════════════╧════════════════════════╧════════════════════╧═══════════════╧═════════════════════════╧══════════════╧═══════════════╧════════════════════════════════════╧═════════════════════════════════╧═══════════════════╧═══════════════╛\n"
          ]
        }
      ]
    },
    {
      "cell_type": "code",
      "source": [
        "Data1 = Data1.dropna()\n",
        "train, test = train_test_split(Data1, test_size=0.20, random_state=123)\n",
        "train = train.set_index(['county_code', 'new_timeperiod'])"
      ],
      "metadata": {
        "id": "6qklSM7Kbf-r"
      },
      "execution_count": null,
      "outputs": []
    },
    {
      "cell_type": "markdown",
      "source": [
        "Regression Model\n"
      ],
      "metadata": {
        "id": "gVEbnvgUbnXr"
      }
    },
    {
      "cell_type": "code",
      "source": [
        "model_base = 'bankruptcy_per_capita  ~ lending_club_available  + interaction  + population_estimation + employed_individuals  + medianhouseholdincome + percent_over_60  '\n",
        "base = PanelOLS.from_formula(model_base, data=train, weights=train['cem_weights'])\n",
        "results_base = base.fit(cov_type='clustered', cluster_entity=True)\n",
        "print(results_base.summary)"
      ],
      "metadata": {
        "colab": {
          "base_uri": "https://localhost:8080/"
        },
        "id": "GGmSrEdmbjSc",
        "outputId": "0669efd7-c00c-475d-ddd1-71aa18f71f5e"
      },
      "execution_count": null,
      "outputs": [
        {
          "output_type": "stream",
          "name": "stdout",
          "text": [
            "                            PanelOLS Estimation Summary                            \n",
            "===================================================================================\n",
            "Dep. Variable:     bankruptcy_per_capita   R-squared:                        0.7166\n",
            "Estimator:                      PanelOLS   R-squared (Between):              0.8179\n",
            "No. Observations:                  51488   R-squared (Within):              -0.0472\n",
            "Date:                   Fri, Oct 18 2024   R-squared (Overall):              0.7166\n",
            "Time:                           18:43:30   Log-likelihood                -2.811e+04\n",
            "Cov. Estimator:                Clustered                                           \n",
            "                                           F-statistic:                    2.17e+04\n",
            "Entities:                           2302   P-value                           0.0000\n",
            "Avg Obs:                          22.367   Distribution:                 F(6,51482)\n",
            "Min Obs:                          8.0000                                           \n",
            "Max Obs:                          28.000   F-statistic (robust):             1619.3\n",
            "                                           P-value                           0.0000\n",
            "Time periods:                         28   Distribution:                 F(6,51482)\n",
            "Avg Obs:                          1838.9                                           \n",
            "Min Obs:                          1802.0                                           \n",
            "Max Obs:                          1879.0                                           \n",
            "                                                                                   \n",
            "                                   Parameter Estimates                                    \n",
            "==========================================================================================\n",
            "                        Parameter  Std. Err.     T-stat    P-value    Lower CI    Upper CI\n",
            "------------------------------------------------------------------------------------------\n",
            "lending_club_available     0.5530     0.0337     16.427     0.0000      0.4870      0.6190\n",
            "interaction               -2.3829     0.1342    -17.752     0.0000     -2.6459     -2.1198\n",
            "population_estimation      0.0027     0.0004     6.8114     0.0000      0.0019      0.0035\n",
            "employed_individuals      -0.0044     0.0009    -5.0091     0.0000     -0.0062     -0.0027\n",
            "medianhouseholdincome      0.0037     0.0006     6.6225     0.0000      0.0026      0.0048\n",
            "percent_over_60            1.8410     0.1105     16.665     0.0000      1.6245      2.0575\n",
            "==========================================================================================\n",
            "\n",
            "\n"
          ]
        }
      ]
    },
    {
      "cell_type": "code",
      "source": [
        "\n",
        "rsquared_base = results_base.rsquared\n",
        "rsquared_adj_base = results_base.rsquared_within  # For fixed effects models\n",
        "\n",
        "# Calculate MSE manually\n",
        "mse_base = np.mean(results_base.resids**2)\n",
        "\n",
        "# Print the results\n",
        "print(f'Rsquared={rsquared_base:.4f}')\n",
        "print(f'Rsquared_within_adjusted={rsquared_adj_base:.4f}')\n",
        "print(f'MSE={mse_base:.4f}')\n"
      ],
      "metadata": {
        "colab": {
          "base_uri": "https://localhost:8080/"
        },
        "id": "3x2vNWPTcVej",
        "outputId": "29540cd5-e86b-411f-9dd3-c939612d19bc"
      },
      "execution_count": null,
      "outputs": [
        {
          "output_type": "stream",
          "name": "stdout",
          "text": [
            "Rsquared=0.7166\n",
            "Rsquared_within_adjusted=-0.0472\n",
            "MSE=0.1738\n"
          ]
        }
      ]
    },
    {
      "cell_type": "code",
      "source": [],
      "metadata": {
        "id": "6TDBe0VIpOZU"
      },
      "execution_count": null,
      "outputs": []
    }
  ]
}