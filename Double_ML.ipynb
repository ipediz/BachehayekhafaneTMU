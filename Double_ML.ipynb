{
  "nbformat": 4,
  "nbformat_minor": 0,
  "metadata": {
    "colab": {
      "provenance": [],
      "authorship_tag": "ABX9TyOYgdygzVYGtIAhH7GSUXBw",
      "include_colab_link": true
    },
    "kernelspec": {
      "name": "python3",
      "display_name": "Python 3"
    },
    "language_info": {
      "name": "python"
    }
  },
  "cells": [
    {
      "cell_type": "markdown",
      "metadata": {
        "id": "view-in-github",
        "colab_type": "text"
      },
      "source": [
        "<a href=\"https://colab.research.google.com/github/ipediz/BachehayekhafaneTMU/blob/main/Double_ML.ipynb\" target=\"_parent\"><img src=\"https://colab.research.google.com/assets/colab-badge.svg\" alt=\"Open In Colab\"/></a>"
      ]
    },
    {
      "cell_type": "code",
      "execution_count": null,
      "metadata": {
        "id": "wHyEfoWFwCe2"
      },
      "outputs": [],
      "source": [
        "import warnings\n",
        "warnings.filterwarnings(\"ignore\")"
      ]
    },
    {
      "cell_type": "code",
      "source": [
        "!pip install econml\n",
        "!pip install itertools\n",
        "!pip install sklearn\n",
        "# Main imports\n",
        "from econml.dml import DML, LinearDML, SparseLinearDML, CausalForestDML\n",
        "\n",
        "# Helper imports\n",
        "import numpy as np\n",
        "from itertools import product\n",
        "from sklearn.linear_model import (Lasso, MultiTaskElasticNetCV)\n",
        "from sklearn.ensemble import RandomForestRegressor,RandomForestClassifier\n",
        "from sklearn.preprocessing import PolynomialFeatures\n",
        "import matplotlib.pyplot as plt\n",
        "from sklearn.model_selection import train_test_split\n",
        "\n",
        "%matplotlib inline"
      ],
      "metadata": {
        "colab": {
          "base_uri": "https://localhost:8080/"
        },
        "id": "aYsHg0xPwSGF",
        "outputId": "974230c5-3908-423f-be8a-4b94e06a9ddc"
      },
      "execution_count": null,
      "outputs": [
        {
          "output_type": "stream",
          "name": "stdout",
          "text": [
            "Requirement already satisfied: econml in /usr/local/lib/python3.10/dist-packages (0.15.1)\n",
            "Requirement already satisfied: numpy<2 in /usr/local/lib/python3.10/dist-packages (from econml) (1.26.4)\n",
            "Requirement already satisfied: scipy>1.4.0 in /usr/local/lib/python3.10/dist-packages (from econml) (1.13.1)\n",
            "Requirement already satisfied: scikit-learn<1.6,>=1.0 in /usr/local/lib/python3.10/dist-packages (from econml) (1.5.2)\n",
            "Requirement already satisfied: sparse in /usr/local/lib/python3.10/dist-packages (from econml) (0.15.4)\n",
            "Requirement already satisfied: joblib>=0.13.0 in /usr/local/lib/python3.10/dist-packages (from econml) (1.4.2)\n",
            "Requirement already satisfied: statsmodels>=0.10 in /usr/local/lib/python3.10/dist-packages (from econml) (0.14.4)\n",
            "Requirement already satisfied: pandas>1.0 in /usr/local/lib/python3.10/dist-packages (from econml) (2.2.2)\n",
            "Requirement already satisfied: shap<0.44.0,>=0.38.1 in /usr/local/lib/python3.10/dist-packages (from econml) (0.43.0)\n",
            "Requirement already satisfied: lightgbm in /usr/local/lib/python3.10/dist-packages (from econml) (4.5.0)\n",
            "Requirement already satisfied: packaging in /usr/local/lib/python3.10/dist-packages (from econml) (24.2)\n",
            "Requirement already satisfied: python-dateutil>=2.8.2 in /usr/local/lib/python3.10/dist-packages (from pandas>1.0->econml) (2.8.2)\n",
            "Requirement already satisfied: pytz>=2020.1 in /usr/local/lib/python3.10/dist-packages (from pandas>1.0->econml) (2024.2)\n",
            "Requirement already satisfied: tzdata>=2022.7 in /usr/local/lib/python3.10/dist-packages (from pandas>1.0->econml) (2024.2)\n",
            "Requirement already satisfied: threadpoolctl>=3.1.0 in /usr/local/lib/python3.10/dist-packages (from scikit-learn<1.6,>=1.0->econml) (3.5.0)\n",
            "Requirement already satisfied: tqdm>=4.27.0 in /usr/local/lib/python3.10/dist-packages (from shap<0.44.0,>=0.38.1->econml) (4.66.6)\n",
            "Requirement already satisfied: slicer==0.0.7 in /usr/local/lib/python3.10/dist-packages (from shap<0.44.0,>=0.38.1->econml) (0.0.7)\n",
            "Requirement already satisfied: numba in /usr/local/lib/python3.10/dist-packages (from shap<0.44.0,>=0.38.1->econml) (0.60.0)\n",
            "Requirement already satisfied: cloudpickle in /usr/local/lib/python3.10/dist-packages (from shap<0.44.0,>=0.38.1->econml) (3.1.0)\n",
            "Requirement already satisfied: patsy>=0.5.6 in /usr/local/lib/python3.10/dist-packages (from statsmodels>=0.10->econml) (1.0.1)\n",
            "Requirement already satisfied: llvmlite<0.44,>=0.43.0dev0 in /usr/local/lib/python3.10/dist-packages (from numba->shap<0.44.0,>=0.38.1->econml) (0.43.0)\n",
            "Requirement already satisfied: six>=1.5 in /usr/local/lib/python3.10/dist-packages (from python-dateutil>=2.8.2->pandas>1.0->econml) (1.16.0)\n",
            "\u001b[31mERROR: Could not find a version that satisfies the requirement itertools (from versions: none)\u001b[0m\u001b[31m\n",
            "\u001b[0m\u001b[31mERROR: No matching distribution found for itertools\u001b[0m\u001b[31m\n",
            "\u001b[0mCollecting sklearn\n",
            "  Using cached sklearn-0.0.post12.tar.gz (2.6 kB)\n",
            "  \u001b[1;31merror\u001b[0m: \u001b[1msubprocess-exited-with-error\u001b[0m\n",
            "  \n",
            "  \u001b[31m×\u001b[0m \u001b[32mpython setup.py egg_info\u001b[0m did not run successfully.\n",
            "  \u001b[31m│\u001b[0m exit code: \u001b[1;36m1\u001b[0m\n",
            "  \u001b[31m╰─>\u001b[0m See above for output.\n",
            "  \n",
            "  \u001b[1;35mnote\u001b[0m: This error originates from a subprocess, and is likely not a problem with pip.\n",
            "  Preparing metadata (setup.py) ... \u001b[?25l\u001b[?25herror\n",
            "\u001b[1;31merror\u001b[0m: \u001b[1mmetadata-generation-failed\u001b[0m\n",
            "\n",
            "\u001b[31m×\u001b[0m Encountered error while generating package metadata.\n",
            "\u001b[31m╰─>\u001b[0m See above for output.\n",
            "\n",
            "\u001b[1;35mnote\u001b[0m: This is an issue with the package mentioned above, not pip.\n",
            "\u001b[1;36mhint\u001b[0m: See above for details.\n"
          ]
        }
      ]
    },
    {
      "cell_type": "code",
      "source": [
        "import pandas as pd"
      ],
      "metadata": {
        "id": "Um3p1cPMxPeW"
      },
      "execution_count": null,
      "outputs": []
    },
    {
      "cell_type": "code",
      "source": [
        "Data = pd.read_csv(r'All_STATE_CASUAL_READY_2.csv')"
      ],
      "metadata": {
        "id": "46t_bBRvxdfn"
      },
      "execution_count": null,
      "outputs": []
    },
    {
      "cell_type": "code",
      "source": [
        "Data['Treatment'] = Data['Treatment'].replace({1: True, 0: False})"
      ],
      "metadata": {
        "id": "kpqsIiBBxmhN"
      },
      "execution_count": null,
      "outputs": []
    },
    {
      "cell_type": "code",
      "source": [
        "from tabulate import tabulate\n",
        "\n",
        "columns_to_drop = [\n",
        "    'relative_time_m8andbeyond', 'relative_time_m7', 'relative_time_m6', 'relative_time_m5',\n",
        "    'relative_time_m4', 'relative_time_m3', 'relative_time_m2', 'relative_time_m1', 'relative_time_0',\n",
        "    'relative_time_p1', 'relative_time_p2', 'relative_time_p3', 'relative_time_p4',\n",
        "    'relative_time_p5', 'relative_time_p6', 'relative_time_p7', 'relative_time_p8andbeyond',\n",
        "    'cem_strata', 'cem_weights', 'new_timeperiod','county_code', 'nonbusiness_bankruptcy_percapita','business_bankruptcy_percapita', 'log_bankruptcy'\n",
        "]\n",
        "\n",
        "\n",
        "Data1= Data.drop(columns=columns_to_drop)\n",
        "Data1 = Data1.dropna();"
      ],
      "metadata": {
        "id": "cQ4jj_FJxs4S"
      },
      "execution_count": null,
      "outputs": []
    },
    {
      "cell_type": "code",
      "source": [
        "from econml.dr import LinearDRLearner\n",
        "from lightgbm import LGBMRegressor\n",
        "from sklearn.ensemble import RandomForestClassifier\n",
        "\n",
        "\n",
        "\n",
        "# Adjusted variables: X, T, and y from Data\n",
        "Y = Data1['bankruptcy_per_capita'].values\n",
        "T = Data1['Treatment'].values\n",
        "X = Data1[['population_estimation']].values.reshape(-1, 1)\n",
        "\n",
        "# Ensure W is already 2D (which it is in your case)\n",
        "W = Data1[['monthly_earnings', 'medianhouseholdincome', 'labor_force', 'employed_individuals']].values\n",
        "# Fit the model\n",
        "\n"
      ],
      "metadata": {
        "id": "EWFlLwsdxtwo"
      },
      "execution_count": null,
      "outputs": []
    },
    {
      "cell_type": "code",
      "source": [
        "print(\"X shape:\", X.shape)  # Should be (n_samples, n_features)\n",
        "print(\"W shape:\", W.shape)  # Should be (n_samples, n_features)"
      ],
      "metadata": {
        "colab": {
          "base_uri": "https://localhost:8080/"
        },
        "id": "lULpOhufSkW8",
        "outputId": "9873b1a3-3d8f-4828-b618-2c45be9d349a"
      },
      "execution_count": null,
      "outputs": [
        {
          "output_type": "stream",
          "name": "stdout",
          "text": [
            "X shape: (64428, 1)\n",
            "W shape: (64428, 4)\n"
          ]
        }
      ]
    },
    {
      "cell_type": "code",
      "source": [
        "import numpy as np\n",
        "\n",
        "# Define the number of test samples\n",
        "n_test = 13000  # Number of test samples\n",
        "\n",
        "# Construct X_test for effect modifiers\n",
        "# Replace X with only the variables you want to explore for treatment effect heterogeneity\n",
        "X_test = np.zeros((n_test, 1))  # Initialize with the number of effect modifier features (e.g., 1 feature)\n",
        "X_test[:, 0] = np.linspace(Data1['population_estimation'].min(), Data1['population_estimation'].max(), n_test)  # Sweeping 'population_estimation'\n",
        "\n",
        "# Construct W_test for control variables\n",
        "W_test = np.zeros((n_test, 4))  # Remaining 4 features as controls\n",
        "W_test[:, 0] = np.random.uniform(Data1['monthly_earnings'].min(), Data1['monthly_earnings'].max(), n_test)\n",
        "W_test[:, 1] = np.random.uniform(Data1['medianhouseholdincome'].min(), Data1['medianhouseholdincome'].max(), n_test)\n",
        "W_test[:, 2] = np.random.uniform(Data1['labor_force'].min(), Data1['labor_force'].max(), n_test)\n",
        "W_test[:, 3] = np.random.uniform(Data1['employed_individuals'].min(), Data1['employed_individuals'].max(), n_test)\n",
        "\n",
        "# Verify the test datasets\n",
        "print(\"Shape of X_test:\", X_test.shape)\n",
        "print(\"Shape of W_test:\", W_test.shape)\n",
        "print(\"Sample of X_test:\\n\", X_test[:5])  # Print a sample of effect modifiers\n",
        "print(\"Sample of W_test:\\n\", W_test[:5])  # Print a sample of control variables\n"
      ],
      "metadata": {
        "colab": {
          "base_uri": "https://localhost:8080/"
        },
        "id": "n84b-bxJ0y8j",
        "outputId": "a77921f7-4f96-46a4-f018-b6cefae7cc6d"
      },
      "execution_count": null,
      "outputs": [
        {
          "output_type": "stream",
          "name": "stdout",
          "text": [
            "Shape of X_test: (13000, 1)\n",
            "Shape of W_test: (13000, 4)\n",
            "Sample of X_test:\n",
            " [[0.25799999]\n",
            " [0.29982836]\n",
            " [0.34165673]\n",
            " [0.3834851 ]\n",
            " [0.42531347]]\n",
            "Sample of W_test:\n",
            " [[ 15.78507103  37.40153957 151.2413681  287.95008786]\n",
            " [ 22.85669639  46.96751075 122.2969523  182.90610241]\n",
            " [ 23.30271974  36.41769696 147.20780507 248.02236105]\n",
            " [ 14.85363026  75.89527697  88.9123849  174.28975309]\n",
            " [ 22.57842654  50.10990903  39.0151505   26.06895582]]\n"
          ]
        }
      ]
    },
    {
      "cell_type": "code",
      "source": [
        "est = LinearDML(\n",
        "    model_y=RandomForestRegressor(),\n",
        "    model_t=RandomForestClassifier(min_samples_leaf=10),\n",
        "    discrete_treatment=True,\n",
        "    cv=6\n",
        ")\n",
        "\n",
        "# Fit the model\n",
        "est.fit(Y, T, X=X, W=W)\n",
        "\n"
      ],
      "metadata": {
        "colab": {
          "base_uri": "https://localhost:8080/"
        },
        "id": "zRIAC7tex5_n",
        "outputId": "1a2b47ce-4d24-4f51-f35e-6c247ebe1e60"
      },
      "execution_count": null,
      "outputs": [
        {
          "output_type": "execute_result",
          "data": {
            "text/plain": [
              "<econml.dml.dml.LinearDML at 0x781ad7e19930>"
            ]
          },
          "metadata": {},
          "execution_count": 16
        }
      ]
    },
    {
      "cell_type": "code",
      "source": [
        "te_pred = est.effect(X_test)  # Only pass X_test\n",
        "lb, ub = est.effect_interval(X_test, alpha=0.01)"
      ],
      "metadata": {
        "id": "bFdGak0WUqcF"
      },
      "execution_count": null,
      "outputs": []
    },
    {
      "cell_type": "code",
      "source": [],
      "metadata": {
        "id": "JdkTlGpj05iX"
      },
      "execution_count": null,
      "outputs": []
    },
    {
      "cell_type": "code",
      "source": [
        "# Define the SparseLinearDML model\n",
        "est2 = SparseLinearDML(\n",
        "    model_y=RandomForestRegressor(),\n",
        "    model_t=RandomForestClassifier(min_samples_leaf=10),\n",
        "    discrete_treatment=True,\n",
        "    featurizer=PolynomialFeatures(degree=1),  # Using polynomial features of degree 1\n",
        "    cv=6\n",
        ")\n",
        "\n",
        "# Fit the model\n",
        "est2.fit(Y, T, X=X, W=W)"
      ],
      "metadata": {
        "colab": {
          "base_uri": "https://localhost:8080/"
        },
        "id": "GSro2kebyOlI",
        "outputId": "bc5f71f0-5fda-4d85-97e8-8ed747310c44"
      },
      "execution_count": null,
      "outputs": [
        {
          "output_type": "execute_result",
          "data": {
            "text/plain": [
              "<econml.dml.dml.SparseLinearDML at 0x7ba9a9e6b760>"
            ]
          },
          "metadata": {},
          "execution_count": 12
        }
      ]
    },
    {
      "cell_type": "code",
      "source": [
        "te_pred2 = est2.effect(X_test)  # Only pass X_test\n",
        "lb2, ub2 = est2.effect_interval(X_test, alpha=0.01)"
      ],
      "metadata": {
        "id": "vAKUTBIXU1gU"
      },
      "execution_count": null,
      "outputs": []
    },
    {
      "cell_type": "code",
      "source": [
        "\n",
        "\n",
        "# Save results for LinearDML\n",
        "np.savez('linear_dml_results.npz', te_pred=te_pred, lb=lb, ub=ub)\n",
        "\n",
        "# Save results for SparseLinearDML\n",
        "np.savez('sparse_linear_dml_results.npz', te_pred2=te_pred2, lb2=lb2, ub2=ub2)\n"
      ],
      "metadata": {
        "id": "0kJIWIUVHxNx"
      },
      "execution_count": null,
      "outputs": []
    },
    {
      "cell_type": "code",
      "source": [
        "# Load results for LinearDML\n",
        "linear_results = np.load('linear_dml_results.npz')\n",
        "te_pred = linear_results['te_pred']\n",
        "lb = linear_results['lb']\n",
        "ub = linear_results['ub']\n",
        "\n",
        "# Load results for SparseLinearDML\n",
        "sparse_results = np.load('sparse_linear_dml_results.npz')\n",
        "te_pred2 = sparse_results['te_pred2']\n",
        "lb2 = sparse_results['lb2']\n",
        "ub2 = sparse_results['ub2']\n"
      ],
      "metadata": {
        "id": "Vb4hrMOBLisr"
      },
      "execution_count": null,
      "outputs": []
    },
    {
      "cell_type": "code",
      "source": [
        "# Define the CausalForestDML model\n",
        "est3 = CausalForestDML(\n",
        "    model_y=RandomForestRegressor(),\n",
        "    model_t=RandomForestClassifier(min_samples_leaf=10),\n",
        "    discrete_treatment=True,\n",
        "    n_estimators=800,\n",
        "    min_impurity_decrease=0.001,\n",
        "    verbose=0,\n",
        "    cv=6\n",
        ")\n",
        "\n",
        "# Tune the model (includes W during tuning)\n",
        "est3.tune(Y, T, X=X, W=W)\n",
        "\n",
        "# Fit the model\n",
        "est3.fit(Y, T, X=X, W=W)"
      ],
      "metadata": {
        "colab": {
          "base_uri": "https://localhost:8080/"
        },
        "id": "4EdyLGB30_7y",
        "outputId": "bd0024d8-1ba4-4860-83f0-36198be476c2"
      },
      "execution_count": null,
      "outputs": [
        {
          "output_type": "execute_result",
          "data": {
            "text/plain": [
              "<econml.dml.causal_forest.CausalForestDML at 0x781ada2d6ce0>"
            ]
          },
          "metadata": {},
          "execution_count": 9
        }
      ]
    },
    {
      "cell_type": "code",
      "source": [
        "te_pred3 = est3.effect(X_test)  # Only pass X_test\n",
        "lb3, ub3 = est3.effect_interval(X_test, alpha=0.01)"
      ],
      "metadata": {
        "id": "dJ8eMXppWn5O"
      },
      "execution_count": null,
      "outputs": []
    },
    {
      "cell_type": "code",
      "source": [
        "est3.feature_importances_"
      ],
      "metadata": {
        "colab": {
          "base_uri": "https://localhost:8080/"
        },
        "id": "BeVb_Jin1Dd0",
        "outputId": "1c90b0dd-c531-477c-cde3-0b75df9de906"
      },
      "execution_count": null,
      "outputs": [
        {
          "output_type": "execute_result",
          "data": {
            "text/plain": [
              "array([0.])"
            ]
          },
          "metadata": {},
          "execution_count": 11
        }
      ]
    },
    {
      "cell_type": "code",
      "source": [
        "plt.figure(figsize=(16, 6))\n",
        "\n",
        "# Subplot 1: LinearDML\n",
        "plt.subplot(1, 3, 1)\n",
        "plt.plot(X_test[:, 0], te_pred, label='LinearDML', alpha=0.6)  # Predicted treatment effect\n",
        "plt.fill_between(X_test[:, 0], lb, ub, alpha=0.4, label='95% CI')  # Confidence interval\n",
        "plt.ylabel('Treatment Effect')\n",
        "plt.xlabel('Population Estimation')  # Feature: Population Estimation\n",
        "plt.legend()\n",
        "plt.title('LinearDML')\n",
        "\n",
        "# Subplot 2: SparseLinearDML\n",
        "plt.subplot(1, 3, 2)\n",
        "plt.plot(X_test[:, 0], te_pred2, label='SparseLinearDML', alpha=0.6)\n",
        "plt.fill_between(X_test[:, 0], lb2, ub2, alpha=0.4, label='95% CI')\n",
        "plt.ylabel('Treatment Effect')\n",
        "plt.xlabel('Population Estimation')\n",
        "plt.legend()\n",
        "plt.title('SparseLinearDML')\n",
        "\n",
        "# Subplot 3: ForestDML\n",
        "plt.subplot(1, 3, 3)\n",
        "plt.plot(X_test[:, 0], te_pred3, label='ForestDML', alpha=0.6)\n",
        "plt.fill_between(X_test[:, 0], lb3, ub3, alpha=0.4, label='95% CI')\n",
        "plt.ylabel('Treatment Effect')\n",
        "plt.xlabel('Population Estimation')\n",
        "plt.legend()\n",
        "plt.title('ForestDML')\n",
        "\n",
        "plt.tight_layout()\n",
        "plt.show()"
      ],
      "metadata": {
        "colab": {
          "base_uri": "https://localhost:8080/",
          "height": 460
        },
        "id": "zcULx12VPcHz",
        "outputId": "45449f22-e1f2-4837-a32f-9e402472d1f4"
      },
      "execution_count": null,
      "outputs": [
        {
          "output_type": "display_data",
          "data": {
            "text/plain": [
              "<Figure size 1600x600 with 3 Axes>"
            ],
            "image/png": "[encoded data removed]"
          },
          "metadata": {}
        }
      ]
    },
    {
      "cell_type": "code",
      "source": [
        "Data1['Treatment'] = Data1['Treatment'].replace({True: 1, False: 0})\n"
      ],
      "metadata": {
        "id": "w6w4vfmBgh_7"
      },
      "execution_count": null,
      "outputs": []
    },
    {
      "cell_type": "code",
      "source": [
        "import shap"
      ],
      "metadata": {
        "id": "qEaO6Fz1dJTt"
      },
      "execution_count": null,
      "outputs": []
    },
    {
      "cell_type": "code",
      "source": [
        "T = Data1['Treatment'].values  # Ensure Treatment is binary (0/1 or True/False)\n",
        "est.fit(Y, T, X=X, W=W)\n"
      ],
      "metadata": {
        "id": "47MErzg1fHsd"
      },
      "execution_count": null,
      "outputs": []
    },
    {
      "cell_type": "code",
      "source": [
        "te_pred = est.effect(X_test)\n",
        "lb, ub = est.effect_interval(X_test, alpha=0.1)\n"
      ],
      "metadata": {
        "id": "2NdzO5dsfNDE"
      },
      "execution_count": null,
      "outputs": []
    },
    {
      "cell_type": "code",
      "source": [
        "est.effect_inference(X_test[:10,]).summary_frame(alpha=0.1, value=0, decimals=13)"
      ],
      "metadata": {
        "colab": {
          "base_uri": "https://localhost:8080/",
          "height": 394
        },
        "id": "zZksjMkBghPc",
        "outputId": "4e062ee0-0a00-47ad-d572-f2e6460fde53"
      },
      "execution_count": null,
      "outputs": [
        {
          "output_type": "execute_result",
          "data": {
            "text/plain": [
              "   point_estimate    stderr     zstat    pvalue  ci_lower  ci_upper\n",
              "X                                                                  \n",
              "0       -0.000898  0.004700 -0.190972  0.848547 -0.008628  0.006833\n",
              "1       -0.000898  0.004699 -0.191171  0.848391 -0.008627  0.006830\n",
              "2       -0.000899  0.004697 -0.191371  0.848235 -0.008625  0.006828\n",
              "3       -0.000900  0.004696 -0.191570  0.848079 -0.008624  0.006825\n",
              "4       -0.000900  0.004695 -0.191769  0.847923 -0.008623  0.006822\n",
              "5       -0.000901  0.004694 -0.191969  0.847767 -0.008622  0.006820\n",
              "6       -0.000902  0.004693 -0.192169  0.847610 -0.008621  0.006817\n",
              "7       -0.000903  0.004692 -0.192368  0.847454 -0.008619  0.006814\n",
              "8       -0.000903  0.004690 -0.192568  0.847297 -0.008618  0.006812\n",
              "9       -0.000904  0.004689 -0.192768  0.847141 -0.008617  0.006809"
            ],
            "text/html": [
              "\n",
              "  <div id=\"df-ecd2764b-bf79-4457-a6ed-4a3daaf37595\" class=\"colab-df-container\">\n",
              "    <div>\n",
              "<style scoped>\n",
              "    .dataframe tbody tr th:only-of-type {\n",
              "        vertical-align: middle;\n",
              "    }\n",
              "\n",
              "    .dataframe tbody tr th {\n",
              "        vertical-align: top;\n",
              "    }\n",
              "\n",
              "    .dataframe thead th {\n",
              "        text-align: right;\n",
              "    }\n",
              "</style>\n",
              "<table border=\"1\" class=\"dataframe\">\n",
              "  <thead>\n",
              "    <tr style=\"text-align: right;\">\n",
              "      <th></th>\n",
              "      <th>point_estimate</th>\n",
              "      <th>stderr</th>\n",
              "      <th>zstat</th>\n",
              "      <th>pvalue</th>\n",
              "      <th>ci_lower</th>\n",
              "      <th>ci_upper</th>\n",
              "    </tr>\n",
              "    <tr>\n",
              "      <th>X</th>\n",
              "      <th></th>\n",
              "      <th></th>\n",
              "      <th></th>\n",
              "      <th></th>\n",
              "      <th></th>\n",
              "      <th></th>\n",
              "    </tr>\n",
              "  </thead>\n",
              "  <tbody>\n",
              "    <tr>\n",
              "      <th>0</th>\n",
              "      <td>-0.000898</td>\n",
              "      <td>0.004700</td>\n",
              "      <td>-0.190972</td>\n",
              "      <td>0.848547</td>\n",
              "      <td>-0.008628</td>\n",
              "      <td>0.006833</td>\n",
              "    </tr>\n",
              "    <tr>\n",
              "      <th>1</th>\n",
              "      <td>-0.000898</td>\n",
              "      <td>0.004699</td>\n",
              "      <td>-0.191171</td>\n",
              "      <td>0.848391</td>\n",
              "      <td>-0.008627</td>\n",
              "      <td>0.006830</td>\n",
              "    </tr>\n",
              "    <tr>\n",
              "      <th>2</th>\n",
              "      <td>-0.000899</td>\n",
              "      <td>0.004697</td>\n",
              "      <td>-0.191371</td>\n",
              "      <td>0.848235</td>\n",
              "      <td>-0.008625</td>\n",
              "      <td>0.006828</td>\n",
              "    </tr>\n",
              "    <tr>\n",
              "      <th>3</th>\n",
              "      <td>-0.000900</td>\n",
              "      <td>0.004696</td>\n",
              "      <td>-0.191570</td>\n",
              "      <td>0.848079</td>\n",
              "      <td>-0.008624</td>\n",
              "      <td>0.006825</td>\n",
              "    </tr>\n",
              "    <tr>\n",
              "      <th>4</th>\n",
              "      <td>-0.000900</td>\n",
              "      <td>0.004695</td>\n",
              "      <td>-0.191769</td>\n",
              "      <td>0.847923</td>\n",
              "      <td>-0.008623</td>\n",
              "      <td>0.006822</td>\n",
              "    </tr>\n",
              "    <tr>\n",
              "      <th>5</th>\n",
              "      <td>-0.000901</td>\n",
              "      <td>0.004694</td>\n",
              "      <td>-0.191969</td>\n",
              "      <td>0.847767</td>\n",
              "      <td>-0.008622</td>\n",
              "      <td>0.006820</td>\n",
              "    </tr>\n",
              "    <tr>\n",
              "      <th>6</th>\n",
              "      <td>-0.000902</td>\n",
              "      <td>0.004693</td>\n",
              "      <td>-0.192169</td>\n",
              "      <td>0.847610</td>\n",
              "      <td>-0.008621</td>\n",
              "      <td>0.006817</td>\n",
              "    </tr>\n",
              "    <tr>\n",
              "      <th>7</th>\n",
              "      <td>-0.000903</td>\n",
              "      <td>0.004692</td>\n",
              "      <td>-0.192368</td>\n",
              "      <td>0.847454</td>\n",
              "      <td>-0.008619</td>\n",
              "      <td>0.006814</td>\n",
              "    </tr>\n",
              "    <tr>\n",
              "      <th>8</th>\n",
              "      <td>-0.000903</td>\n",
              "      <td>0.004690</td>\n",
              "      <td>-0.192568</td>\n",
              "      <td>0.847297</td>\n",
              "      <td>-0.008618</td>\n",
              "      <td>0.006812</td>\n",
              "    </tr>\n",
              "    <tr>\n",
              "      <th>9</th>\n",
              "      <td>-0.000904</td>\n",
              "      <td>0.004689</td>\n",
              "      <td>-0.192768</td>\n",
              "      <td>0.847141</td>\n",
              "      <td>-0.008617</td>\n",
              "      <td>0.006809</td>\n",
              "    </tr>\n",
              "  </tbody>\n",
              "</table>\n",
              "</div>\n",
              "    <div class=\"colab-df-buttons\">\n",
              "\n",
              "  <div class=\"colab-df-container\">\n",
              "    <button class=\"colab-df-convert\" onclick=\"convertToInteractive('df-ecd2764b-bf79-4457-a6ed-4a3daaf37595')\"\n",
              "            title=\"Convert this dataframe to an interactive table.\"\n",
              "            style=\"display:none;\">\n",
              "\n",
              "  <svg xmlns=\"http://www.w3.org/2000/svg\" height=\"24px\" viewBox=\"0 -960 960 960\">\n",
              "    <path d=\"M120-120v-720h720v720H120Zm60-500h600v-160H180v160Zm220 220h160v-160H400v160Zm0 220h160v-160H400v160ZM180-400h160v-160H180v160Zm440 0h160v-160H620v160ZM180-180h160v-160H180v160Zm440 0h160v-160H620v160Z\"/>\n",
              "  </svg>\n",
              "    </button>\n",
              "\n",
              "  <style>\n",
              "    .colab-df-container {\n",
              "      display:flex;\n",
              "      gap: 12px;\n",
              "    }\n",
              "\n",
              "    .colab-df-convert {\n",
              "      background-color: #E8F0FE;\n",
              "      border: none;\n",
              "      border-radius: 50%;\n",
              "      cursor: pointer;\n",
              "      display: none;\n",
              "      fill: #1967D2;\n",
              "      height: 32px;\n",
              "      padding: 0 0 0 0;\n",
              "      width: 32px;\n",
              "    }\n",
              "\n",
              "    .colab-df-convert:hover {\n",
              "      background-color: #E2EBFA;\n",
              "      box-shadow: 0px 1px 2px rgba(60, 64, 67, 0.3), 0px 1px 3px 1px rgba(60, 64, 67, 0.15);\n",
              "      fill: #174EA6;\n",
              "    }\n",
              "\n",
              "    .colab-df-buttons div {\n",
              "      margin-bottom: 4px;\n",
              "    }\n",
              "\n",
              "    [theme=dark] .colab-df-convert {\n",
              "      background-color: #3B4455;\n",
              "      fill: #D2E3FC;\n",
              "    }\n",
              "\n",
              "    [theme=dark] .colab-df-convert:hover {\n",
              "      background-color: #434B5C;\n",
              "      box-shadow: 0px 1px 3px 1px rgba(0, 0, 0, 0.15);\n",
              "      filter: drop-shadow(0px 1px 2px rgba(0, 0, 0, 0.3));\n",
              "      fill: #FFFFFF;\n",
              "    }\n",
              "  </style>\n",
              "\n",
              "    <script>\n",
              "      const buttonEl =\n",
              "        document.querySelector('#df-ecd2764b-bf79-4457-a6ed-4a3daaf37595 button.colab-df-convert');\n",
              "      buttonEl.style.display =\n",
              "        google.colab.kernel.accessAllowed ? 'block' : 'none';\n",
              "\n",
              "      async function convertToInteractive(key) {\n",
              "        const element = document.querySelector('#df-ecd2764b-bf79-4457-a6ed-4a3daaf37595');\n",
              "        const dataTable =\n",
              "          await google.colab.kernel.invokeFunction('convertToInteractive',\n",
              "                                                    [key], {});\n",
              "        if (!dataTable) return;\n",
              "\n",
              "        const docLinkHtml = 'Like what you see? Visit the ' +\n",
              "          '<a target=\"_blank\" href=https://colab.research.google.com/notebooks/data_table.ipynb>data table notebook</a>'\n",
              "          + ' to learn more about interactive tables.';\n",
              "        element.innerHTML = '';\n",
              "        dataTable['output_type'] = 'display_data';\n",
              "        await google.colab.output.renderOutput(dataTable, element);\n",
              "        const docLink = document.createElement('div');\n",
              "        docLink.innerHTML = docLinkHtml;\n",
              "        element.appendChild(docLink);\n",
              "      }\n",
              "    </script>\n",
              "  </div>\n",
              "\n",
              "\n",
              "<div id=\"df-de9ebb6b-080c-4b2d-ad56-09e61bcd5b75\">\n",
              "  <button class=\"colab-df-quickchart\" onclick=\"quickchart('df-de9ebb6b-080c-4b2d-ad56-09e61bcd5b75')\"\n",
              "            title=\"Suggest charts\"\n",
              "            style=\"display:none;\">\n",
              "\n",
              "<svg xmlns=\"http://www.w3.org/2000/svg\" height=\"24px\"viewBox=\"0 0 24 24\"\n",
              "     width=\"24px\">\n",
              "    <g>\n",
              "        <path d=\"M19 3H5c-1.1 0-2 .9-2 2v14c0 1.1.9 2 2 2h14c1.1 0 2-.9 2-2V5c0-1.1-.9-2-2-2zM9 17H7v-7h2v7zm4 0h-2V7h2v10zm4 0h-2v-4h2v4z\"/>\n",
              "    </g>\n",
              "</svg>\n",
              "  </button>\n",
              "\n",
              "<style>\n",
              "  .colab-df-quickchart {\n",
              "      --bg-color: #E8F0FE;\n",
              "      --fill-color: #1967D2;\n",
              "      --hover-bg-color: #E2EBFA;\n",
              "      --hover-fill-color: #174EA6;\n",
              "      --disabled-fill-color: #AAA;\n",
              "      --disabled-bg-color: #DDD;\n",
              "  }\n",
              "\n",
              "  [theme=dark] .colab-df-quickchart {\n",
              "      --bg-color: #3B4455;\n",
              "      --fill-color: #D2E3FC;\n",
              "      --hover-bg-color: #434B5C;\n",
              "      --hover-fill-color: #FFFFFF;\n",
              "      --disabled-bg-color: #3B4455;\n",
              "      --disabled-fill-color: #666;\n",
              "  }\n",
              "\n",
              "  .colab-df-quickchart {\n",
              "    background-color: var(--bg-color);\n",
              "    border: none;\n",
              "    border-radius: 50%;\n",
              "    cursor: pointer;\n",
              "    display: none;\n",
              "    fill: var(--fill-color);\n",
              "    height: 32px;\n",
              "    padding: 0;\n",
              "    width: 32px;\n",
              "  }\n",
              "\n",
              "  .colab-df-quickchart:hover {\n",
              "    background-color: var(--hover-bg-color);\n",
              "    box-shadow: 0 1px 2px rgba(60, 64, 67, 0.3), 0 1px 3px 1px rgba(60, 64, 67, 0.15);\n",
              "    fill: var(--button-hover-fill-color);\n",
              "  }\n",
              "\n",
              "  .colab-df-quickchart-complete:disabled,\n",
              "  .colab-df-quickchart-complete:disabled:hover {\n",
              "    background-color: var(--disabled-bg-color);\n",
              "    fill: var(--disabled-fill-color);\n",
              "    box-shadow: none;\n",
              "  }\n",
              "\n",
              "  .colab-df-spinner {\n",
              "    border: 2px solid var(--fill-color);\n",
              "    border-color: transparent;\n",
              "    border-bottom-color: var(--fill-color);\n",
              "    animation:\n",
              "      spin 1s steps(1) infinite;\n",
              "  }\n",
              "\n",
              "  @keyframes spin {\n",
              "    0% {\n",
              "      border-color: transparent;\n",
              "      border-bottom-color: var(--fill-color);\n",
              "      border-left-color: var(--fill-color);\n",
              "    }\n",
              "    20% {\n",
              "      border-color: transparent;\n",
              "      border-left-color: var(--fill-color);\n",
              "      border-top-color: var(--fill-color);\n",
              "    }\n",
              "    30% {\n",
              "      border-color: transparent;\n",
              "      border-left-color: var(--fill-color);\n",
              "      border-top-color: var(--fill-color);\n",
              "      border-right-color: var(--fill-color);\n",
              "    }\n",
              "    40% {\n",
              "      border-color: transparent;\n",
              "      border-right-color: var(--fill-color);\n",
              "      border-top-color: var(--fill-color);\n",
              "    }\n",
              "    60% {\n",
              "      border-color: transparent;\n",
              "      border-right-color: var(--fill-color);\n",
              "    }\n",
              "    80% {\n",
              "      border-color: transparent;\n",
              "      border-right-color: var(--fill-color);\n",
              "      border-bottom-color: var(--fill-color);\n",
              "    }\n",
              "    90% {\n",
              "      border-color: transparent;\n",
              "      border-bottom-color: var(--fill-color);\n",
              "    }\n",
              "  }\n",
              "</style>\n",
              "\n",
              "  <script>\n",
              "    async function quickchart(key) {\n",
              "      const quickchartButtonEl =\n",
              "        document.querySelector('#' + key + ' button');\n",
              "      quickchartButtonEl.disabled = true;  // To prevent multiple clicks.\n",
              "      quickchartButtonEl.classList.add('colab-df-spinner');\n",
              "      try {\n",
              "        const charts = await google.colab.kernel.invokeFunction(\n",
              "            'suggestCharts', [key], {});\n",
              "      } catch (error) {\n",
              "        console.error('Error during call to suggestCharts:', error);\n",
              "      }\n",
              "      quickchartButtonEl.classList.remove('colab-df-spinner');\n",
              "      quickchartButtonEl.classList.add('colab-df-quickchart-complete');\n",
              "    }\n",
              "    (() => {\n",
              "      let quickchartButtonEl =\n",
              "        document.querySelector('#df-de9ebb6b-080c-4b2d-ad56-09e61bcd5b75 button');\n",
              "      quickchartButtonEl.style.display =\n",
              "        google.colab.kernel.accessAllowed ? 'block' : 'none';\n",
              "    })();\n",
              "  </script>\n",
              "</div>\n",
              "\n",
              "    </div>\n",
              "  </div>\n"
            ],
            "application/vnd.google.colaboratory.intrinsic+json": {
              "type": "dataframe",
              "summary": "{\n  \"name\": \"est\",\n  \"rows\": 10,\n  \"fields\": [\n    {\n      \"column\": \"X\",\n      \"properties\": {\n        \"dtype\": \"number\",\n        \"std\": 3,\n        \"min\": 0,\n        \"max\": 9,\n        \"num_unique_values\": 10,\n        \"samples\": [\n          8,\n          1,\n          5\n        ],\n        \"semantic_type\": \"\",\n        \"description\": \"\"\n      }\n    },\n    {\n      \"column\": \"point_estimate\",\n      \"properties\": {\n        \"dtype\": \"number\",\n        \"std\": 2.158817082926969e-06,\n        \"min\": -0.0009039277921,\n        \"max\": -0.0008975104878,\n        \"num_unique_values\": 10,\n        \"samples\": [\n          -0.0009032147583,\n          -0.0008982235216,\n          -0.0009010756569\n        ],\n        \"semantic_type\": \"\",\n        \"description\": \"\"\n      }\n    },\n    {\n      \"column\": \"stderr\",\n      \"properties\": {\n        \"dtype\": \"number\",\n        \"std\": 3.528889641964493e-06,\n        \"min\": 0.0046892034688,\n        \"max\": 0.0046996934506,\n        \"num_unique_values\": 10,\n        \"samples\": [\n          0.004690367516,\n          0.0046985263933,\n          0.0046938619199\n        ],\n        \"semantic_type\": \"\",\n        \"description\": \"\"\n      }\n    },\n    {\n      \"column\": \"zstat\",\n      \"properties\": {\n        \"dtype\": \"number\",\n        \"std\": 0.000604097655261529,\n        \"min\": -0.1927678758501,\n        \"max\": -0.19097213408,\n        \"num_unique_values\": 10,\n        \"samples\": [\n          -0.1925680141736,\n          -0.1911713261574,\n          -0.1919689313921\n        ],\n        \"semantic_type\": \"\",\n        \"description\": \"\"\n      }\n    },\n    {\n      \"column\": \"pvalue\",\n      \"properties\": {\n        \"dtype\": \"number\",\n        \"std\": 0.0004732091131771143,\n        \"min\": 0.8471407629467,\n        \"max\": 0.8485474251234,\n        \"num_unique_values\": 10,\n        \"samples\": [\n          0.8472972970168,\n          0.8483913677037,\n          0.8477665419315\n        ],\n        \"semantic_type\": \"\",\n        \"description\": \"\"\n      }\n    },\n    {\n      \"column\": \"ci_lower\",\n      \"properties\": {\n        \"dtype\": \"number\",\n        \"std\": 3.645690156686996e-06,\n        \"min\": -0.0086278183056,\n        \"max\": -0.0086169811253,\n        \"num_unique_values\": 10,\n        \"samples\": [\n          -0.0086181827787,\n          -0.008626611701,\n          -0.0086217914602\n        ],\n        \"semantic_type\": \"\",\n        \"description\": \"\"\n      }\n    },\n    {\n      \"column\": \"ci_upper\",\n      \"properties\": {\n        \"dtype\": \"number\",\n        \"std\": 7.96332388278353e-06,\n        \"min\": 0.0068091255411,\n        \"max\": 0.00683279733,\n        \"num_unique_values\": 10,\n        \"samples\": [\n          0.0068117532621,\n          0.0068301646578,\n          0.0068196401464\n        ],\n        \"semantic_type\": \"\",\n        \"description\": \"\"\n      }\n    }\n  ]\n}"
            }
          },
          "metadata": {},
          "execution_count": 19
        }
      ]
    },
    {
      "cell_type": "code",
      "source": [
        "est.effect_inference(X_test).population_summary(alpha=0.1, value=0, decimals=10, tol=0.001)"
      ],
      "metadata": {
        "colab": {
          "base_uri": "https://localhost:8080/",
          "height": 203
        },
        "id": "g_-z7jqfdc4x",
        "outputId": "9f524f96-ff59-49de-d518-dd8a904d8add"
      },
      "execution_count": null,
      "outputs": [
        {
          "output_type": "execute_result",
          "data": {
            "text/plain": [
              "<econml.inference._inference.PopulationSummaryResults at 0x7f16d9e26f80>"
            ],
            "text/html": [
              "<table class=\"simpletable\">\n",
              "<caption>Uncertainty of Mean Point Estimate</caption>\n",
              "<tr>\n",
              "   <th>mean_point</th>    <th>stderr_mean</th>     <th>zstat</th>        <th>pvalue</th>    <th>ci_mean_lower</th> <th>ci_mean_upper</th>\n",
              "</tr>\n",
              "<tr>\n",
              "  <td>-0.0106004053</td> <td>0.0058839563</td> <td>-1.8015778489</td> <td>0.0716118489</td> <td>-0.0202786522</td> <td>-0.0009221585</td>\n",
              "</tr>\n",
              "</table>\n",
              "<table class=\"simpletable\">\n",
              "<caption>Distribution of Point Estimate</caption>\n",
              "<tr>\n",
              "    <th>std_point</th>  <th>pct_point_lower</th> <th>pct_point_upper</th>\n",
              "</tr>\n",
              "<tr>\n",
              "  <td>0.0001253671</td>  <td>-0.0107956379</td>   <td>-0.0104051727</td> \n",
              "</tr>\n",
              "</table>\n",
              "<table class=\"simpletable\">\n",
              "<caption>Total Variance of Point Estimate</caption>\n",
              "<tr>\n",
              "  <th>stderr_point</th> <th>ci_point_lower</th> <th>ci_point_upper</th>\n",
              "</tr>\n",
              "<tr>\n",
              "  <td>0.0058852917</td>  <td>-0.0225764327</td>  <td>0.0015358714</td> \n",
              "</tr>\n",
              "</table>"
            ]
          },
          "metadata": {},
          "execution_count": 82
        }
      ]
    },
    {
      "cell_type": "code",
      "source": [
        "# Evaluate coefficients for treatment = 1\n",
        "coef_summary = est.coef__inference(T=1).summary_frame()\n",
        "print(coef_summary)\n"
      ],
      "metadata": {
        "colab": {
          "base_uri": "https://localhost:8080/"
        },
        "id": "uDM3WXb4hQ8P",
        "outputId": "4ec4f428-8cb6-478e-f880-749c520b7895"
      },
      "execution_count": null,
      "outputs": [
        {
          "output_type": "stream",
          "name": "stdout",
          "text": [
            "    point_estimate  stderr  zstat  pvalue  ci_lower  ci_upper\n",
            "X                                                            \n",
            "X0             0.0     0.0   0.03   0.976      -0.0       0.0\n"
          ]
        }
      ]
    },
    {
      "cell_type": "code",
      "source": [
        "est3.ate_"
      ],
      "metadata": {
        "colab": {
          "base_uri": "https://localhost:8080/",
          "height": 141
        },
        "id": "RR637IAHfn6m",
        "outputId": "236eb6bc-a3da-4133-d179-9c7da1ae4cf8"
      },
      "execution_count": null,
      "outputs": [
        {
          "output_type": "error",
          "ename": "NameError",
          "evalue": "name 'est2' is not defined",
          "traceback": [
            "\u001b[0;31m---------------------------------------------------------------------------\u001b[0m",
            "\u001b[0;31mNameError\u001b[0m                                 Traceback (most recent call last)",
            "\u001b[0;32m<ipython-input-95-77db4c1bc5a3>\u001b[0m in \u001b[0;36m<cell line: 1>\u001b[0;34m()\u001b[0m\n\u001b[0;32m----> 1\u001b[0;31m \u001b[0mest2\u001b[0m\u001b[0;34m.\u001b[0m\u001b[0mate_\u001b[0m\u001b[0;34m\u001b[0m\u001b[0;34m\u001b[0m\u001b[0m\n\u001b[0m",
            "\u001b[0;31mNameError\u001b[0m: name 'est2' is not defined"
          ]
        }
      ]
    },
    {
      "cell_type": "code",
      "source": [
        "est3.ate__inference().summary_frame()"
      ],
      "metadata": {
        "colab": {
          "base_uri": "https://localhost:8080/",
          "height": 112
        },
        "id": "H2LDkQ9IjFzf",
        "outputId": "1e960a38-341c-4799-928a-957c9cfb8a62"
      },
      "execution_count": null,
      "outputs": [
        {
          "output_type": "execute_result",
          "data": {
            "text/plain": [
              "     point_estimate  stderr  zstat  pvalue  ci_lower  ci_upper\n",
              "X                                                             \n",
              "ATE          -0.002   0.002 -0.844   0.399    -0.005     0.002"
            ],
            "text/html": [
              "\n",
              "  <div id=\"df-26957a82-1151-4c14-907e-87fee94633db\" class=\"colab-df-container\">\n",
              "    <div>\n",
              "<style scoped>\n",
              "    .dataframe tbody tr th:only-of-type {\n",
              "        vertical-align: middle;\n",
              "    }\n",
              "\n",
              "    .dataframe tbody tr th {\n",
              "        vertical-align: top;\n",
              "    }\n",
              "\n",
              "    .dataframe thead th {\n",
              "        text-align: right;\n",
              "    }\n",
              "</style>\n",
              "<table border=\"1\" class=\"dataframe\">\n",
              "  <thead>\n",
              "    <tr style=\"text-align: right;\">\n",
              "      <th></th>\n",
              "      <th>point_estimate</th>\n",
              "      <th>stderr</th>\n",
              "      <th>zstat</th>\n",
              "      <th>pvalue</th>\n",
              "      <th>ci_lower</th>\n",
              "      <th>ci_upper</th>\n",
              "    </tr>\n",
              "    <tr>\n",
              "      <th>X</th>\n",
              "      <th></th>\n",
              "      <th></th>\n",
              "      <th></th>\n",
              "      <th></th>\n",
              "      <th></th>\n",
              "      <th></th>\n",
              "    </tr>\n",
              "  </thead>\n",
              "  <tbody>\n",
              "    <tr>\n",
              "      <th>ATE</th>\n",
              "      <td>-0.002</td>\n",
              "      <td>0.002</td>\n",
              "      <td>-0.844</td>\n",
              "      <td>0.399</td>\n",
              "      <td>-0.005</td>\n",
              "      <td>0.002</td>\n",
              "    </tr>\n",
              "  </tbody>\n",
              "</table>\n",
              "</div>\n",
              "    <div class=\"colab-df-buttons\">\n",
              "\n",
              "  <div class=\"colab-df-container\">\n",
              "    <button class=\"colab-df-convert\" onclick=\"convertToInteractive('df-26957a82-1151-4c14-907e-87fee94633db')\"\n",
              "            title=\"Convert this dataframe to an interactive table.\"\n",
              "            style=\"display:none;\">\n",
              "\n",
              "  <svg xmlns=\"http://www.w3.org/2000/svg\" height=\"24px\" viewBox=\"0 -960 960 960\">\n",
              "    <path d=\"M120-120v-720h720v720H120Zm60-500h600v-160H180v160Zm220 220h160v-160H400v160Zm0 220h160v-160H400v160ZM180-400h160v-160H180v160Zm440 0h160v-160H620v160ZM180-180h160v-160H180v160Zm440 0h160v-160H620v160Z\"/>\n",
              "  </svg>\n",
              "    </button>\n",
              "\n",
              "  <style>\n",
              "    .colab-df-container {\n",
              "      display:flex;\n",
              "      gap: 12px;\n",
              "    }\n",
              "\n",
              "    .colab-df-convert {\n",
              "      background-color: #E8F0FE;\n",
              "      border: none;\n",
              "      border-radius: 50%;\n",
              "      cursor: pointer;\n",
              "      display: none;\n",
              "      fill: #1967D2;\n",
              "      height: 32px;\n",
              "      padding: 0 0 0 0;\n",
              "      width: 32px;\n",
              "    }\n",
              "\n",
              "    .colab-df-convert:hover {\n",
              "      background-color: #E2EBFA;\n",
              "      box-shadow: 0px 1px 2px rgba(60, 64, 67, 0.3), 0px 1px 3px 1px rgba(60, 64, 67, 0.15);\n",
              "      fill: #174EA6;\n",
              "    }\n",
              "\n",
              "    .colab-df-buttons div {\n",
              "      margin-bottom: 4px;\n",
              "    }\n",
              "\n",
              "    [theme=dark] .colab-df-convert {\n",
              "      background-color: #3B4455;\n",
              "      fill: #D2E3FC;\n",
              "    }\n",
              "\n",
              "    [theme=dark] .colab-df-convert:hover {\n",
              "      background-color: #434B5C;\n",
              "      box-shadow: 0px 1px 3px 1px rgba(0, 0, 0, 0.15);\n",
              "      filter: drop-shadow(0px 1px 2px rgba(0, 0, 0, 0.3));\n",
              "      fill: #FFFFFF;\n",
              "    }\n",
              "  </style>\n",
              "\n",
              "    <script>\n",
              "      const buttonEl =\n",
              "        document.querySelector('#df-26957a82-1151-4c14-907e-87fee94633db button.colab-df-convert');\n",
              "      buttonEl.style.display =\n",
              "        google.colab.kernel.accessAllowed ? 'block' : 'none';\n",
              "\n",
              "      async function convertToInteractive(key) {\n",
              "        const element = document.querySelector('#df-26957a82-1151-4c14-907e-87fee94633db');\n",
              "        const dataTable =\n",
              "          await google.colab.kernel.invokeFunction('convertToInteractive',\n",
              "                                                    [key], {});\n",
              "        if (!dataTable) return;\n",
              "\n",
              "        const docLinkHtml = 'Like what you see? Visit the ' +\n",
              "          '<a target=\"_blank\" href=https://colab.research.google.com/notebooks/data_table.ipynb>data table notebook</a>'\n",
              "          + ' to learn more about interactive tables.';\n",
              "        element.innerHTML = '';\n",
              "        dataTable['output_type'] = 'display_data';\n",
              "        await google.colab.output.renderOutput(dataTable, element);\n",
              "        const docLink = document.createElement('div');\n",
              "        docLink.innerHTML = docLinkHtml;\n",
              "        element.appendChild(docLink);\n",
              "      }\n",
              "    </script>\n",
              "  </div>\n",
              "\n",
              "\n",
              "    </div>\n",
              "  </div>\n"
            ],
            "application/vnd.google.colaboratory.intrinsic+json": {
              "type": "dataframe",
              "summary": "{\n  \"name\": \"est3\",\n  \"rows\": 1,\n  \"fields\": [\n    {\n      \"column\": \"X\",\n      \"properties\": {\n        \"dtype\": \"string\",\n        \"num_unique_values\": 1,\n        \"samples\": [\n          \"ATE\"\n        ],\n        \"semantic_type\": \"\",\n        \"description\": \"\"\n      }\n    },\n    {\n      \"column\": \"point_estimate\",\n      \"properties\": {\n        \"dtype\": \"number\",\n        \"std\": null,\n        \"min\": -0.002,\n        \"max\": -0.002,\n        \"num_unique_values\": 1,\n        \"samples\": [\n          -0.002\n        ],\n        \"semantic_type\": \"\",\n        \"description\": \"\"\n      }\n    },\n    {\n      \"column\": \"stderr\",\n      \"properties\": {\n        \"dtype\": \"number\",\n        \"std\": null,\n        \"min\": 0.002,\n        \"max\": 0.002,\n        \"num_unique_values\": 1,\n        \"samples\": [\n          0.002\n        ],\n        \"semantic_type\": \"\",\n        \"description\": \"\"\n      }\n    },\n    {\n      \"column\": \"zstat\",\n      \"properties\": {\n        \"dtype\": \"number\",\n        \"std\": null,\n        \"min\": -0.844,\n        \"max\": -0.844,\n        \"num_unique_values\": 1,\n        \"samples\": [\n          -0.844\n        ],\n        \"semantic_type\": \"\",\n        \"description\": \"\"\n      }\n    },\n    {\n      \"column\": \"pvalue\",\n      \"properties\": {\n        \"dtype\": \"number\",\n        \"std\": null,\n        \"min\": 0.399,\n        \"max\": 0.399,\n        \"num_unique_values\": 1,\n        \"samples\": [\n          0.399\n        ],\n        \"semantic_type\": \"\",\n        \"description\": \"\"\n      }\n    },\n    {\n      \"column\": \"ci_lower\",\n      \"properties\": {\n        \"dtype\": \"number\",\n        \"std\": null,\n        \"min\": -0.005,\n        \"max\": -0.005,\n        \"num_unique_values\": 1,\n        \"samples\": [\n          -0.005\n        ],\n        \"semantic_type\": \"\",\n        \"description\": \"\"\n      }\n    },\n    {\n      \"column\": \"ci_upper\",\n      \"properties\": {\n        \"dtype\": \"number\",\n        \"std\": null,\n        \"min\": 0.002,\n        \"max\": 0.002,\n        \"num_unique_values\": 1,\n        \"samples\": [\n          0.002\n        ],\n        \"semantic_type\": \"\",\n        \"description\": \"\"\n      }\n    }\n  ]\n}"
            }
          },
          "metadata": {},
          "execution_count": 85
        }
      ]
    },
    {
      "cell_type": "code",
      "source": [
        "est3.ate__inference().summary_frame()"
      ],
      "metadata": {
        "id": "9XyvAR3ZntBE"
      },
      "execution_count": null,
      "outputs": []
    }
  ]
}