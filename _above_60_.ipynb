{
  "nbformat": 4,
  "nbformat_minor": 0,
  "metadata": {
    "colab": {
      "provenance": [],
      "authorship_tag": "ABX9TyOgv34Y2507H83ePhT3Bahj",
      "include_colab_link": true
    },
    "kernelspec": {
      "name": "python3",
      "display_name": "Python 3"
    },
    "language_info": {
      "name": "python"
    }
  },
  "cells": [
    {
      "cell_type": "markdown",
      "metadata": {
        "id": "view-in-github",
        "colab_type": "text"
      },
      "source": [
        "<a href=\"https://colab.research.google.com/github/ipediz/BachehayekhafaneTMU/blob/main/_above_60_.ipynb\" target=\"_parent\"><img src=\"https://colab.research.google.com/assets/colab-badge.svg\" alt=\"Open In Colab\"/></a>"
      ]
    },
    {
      "cell_type": "markdown",
      "source": [
        "**This code was written with the aid of ChatGPT**"
      ],
      "metadata": {
        "id": "nY8XXl2B8_r1"
      }
    },
    {
      "cell_type": "code",
      "execution_count": null,
      "metadata": {
        "id": "r8CETu5a8jsE"
      },
      "outputs": [],
      "source": [
        "#All states population %of above 60\n",
        "!pip install Census"
      ]
    },
    {
      "cell_type": "code",
      "source": [
        "from census import Census\n",
        "import pandas as pd\n",
        "\n",
        "# Replace 'YOUR_CENSUS_API_KEY' with your actual API key\n",
        "c = Census(\"b6530e19ac88a7f5b6c865d194b4f0c9ae06e1ae\")\n",
        "\n",
        "# List of FIPS codes for all states\n",
        "state_fips = ['01', '02', '04', '05', '06', '08', '09', '10', '11', '12', '13', '15', '16', '17',\n",
        "              '18', '19', '20', '21', '22', '23', '24', '25', '26', '27', '28', '29', '30', '31',\n",
        "              '32', '33', '34', '35', '36', '37', '38', '39', '40', '41', '42', '44', '45', '46',\n",
        "              '47', '48', '49', '50', '51', '53', '54', '55', '56']\n",
        "\n",
        "# Function to get population above 60 for a given state and year from ACS 5-year data\n",
        "def get_population_over_60(state, year):\n",
        "    # List of variables for males and females above 60 (ACS variables)\n",
        "    variables = [\n",
        "        'B01001_020E', 'B01001_021E', 'B01001_022E', 'B01001_023E', 'B01001_024E', 'B01001_025E',  # Males 60+\n",
        "        'B01001_044E', 'B01001_045E', 'B01001_046E', 'B01001_047E', 'B01001_048E', 'B01001_049E',  # Females 60+\n",
        "        'B01001_001E'  # Total population\n",
        "    ]\n",
        "\n",
        "    # Fetching data from the ACS 5-year estimate dataset for the given year\n",
        "    try:\n",
        "        data = c.acs5.state_county(variables, state, Census.ALL)\n",
        "    except Exception as e:\n",
        "        print(f\"Error fetching data for state {state}, year {year}: {e}\")\n",
        "        return pd.DataFrame()  # Return an empty DataFrame if there's an error\n",
        "\n",
        "    df = pd.DataFrame(data)\n",
        "\n",
        "    # Calculate percentage of population over 60\n",
        "    males_over_60 = (df['B01001_020E'].astype(float) + df['B01001_021E'].astype(float) +\n",
        "                     df['B01001_022E'].astype(float) + df['B01001_023E'].astype(float) +\n",
        "                     df['B01001_024E'].astype(float) + df['B01001_025E'].astype(float))\n",
        "\n",
        "    females_over_60 = (df['B01001_044E'].astype(float) + df['B01001_045E'].astype(float) +\n",
        "                       df['B01001_046E'].astype(float) + df['B01001_047E'].astype(float) +\n",
        "                       df['B01001_048E'].astype(float) + df['B01001_049E'].astype(float))\n",
        "\n",
        "    total_population_over_60 = males_over_60 + females_over_60\n",
        "    df['percent_over_60'] = (total_population_over_60 / df['B01001_001E'].astype(float)) * 100\n",
        "\n",
        "    # Add state and year information to the DataFrame\n",
        "    df['state'] = state\n",
        "    df['year'] = year\n",
        "\n",
        "    return df[['state', 'county', 'percent_over_60', 'year']]\n",
        "\n",
        "# Loop through each year and state to collect the data\n",
        "def collect_data(years):\n",
        "    all_data = []\n",
        "    for year in years:\n",
        "        for state in state_fips:\n",
        "            try:\n",
        "                df = get_population_over_60(state, year)\n",
        "                if not df.empty:\n",
        "                    all_data.append(df)\n",
        "            except Exception as e:\n",
        "                print(f\"Error fetching data for state {state} in {year}: {e}\")\n",
        "    return pd.concat(all_data)\n",
        "\n",
        "# Get data for the ACS 5-year estimates corresponding to 2008 to 2015\n",
        "years = range(2008, 2016)\n",
        "all_data = collect_data(years)\n",
        "\n",
        "# Reset index and print the data\n",
        "all_data.reset_index(drop=True, inplace=True)\n",
        "print(all_data)\n",
        "\n",
        "# Save the data to a CSV file\n",
        "all_data.to_csv('population_over_60_2008_2015.csv', index=False)\n"
      ],
      "metadata": {
        "id": "9kZYhmfC8v_c"
      },
      "execution_count": null,
      "outputs": []
    },
    {
      "cell_type": "code",
      "source": [
        "# Assuming 'all_data' is the output from your original code\n",
        "\n",
        "# Create an empty list to store the expanded data\n",
        "expanded_data = []\n",
        "\n",
        "# Iterate over each unique year and county\n",
        "for _, row in all_data.iterrows():\n",
        "    # For each row, create 4 quarters\n",
        "    for quarter in range(1, 5):\n",
        "        new_row = row.copy()\n",
        "        new_row['Quarter'] = quarter\n",
        "        expanded_data.append(new_row)\n",
        "\n",
        "# Convert the list of expanded data into a DataFrame\n",
        "all_data_expanded = pd.DataFrame(expanded_data)\n",
        "\n",
        "# Print the resulting DataFrame\n",
        "print(all_data_expanded)\n"
      ],
      "metadata": {
        "id": "eEMoMSnr8yTP"
      },
      "execution_count": null,
      "outputs": []
    },
    {
      "cell_type": "code",
      "source": [
        "# Assuming 'all_data_expanded' is the output from your expanded data\n",
        "\n",
        "# Combine the 'state' and 'county' columns to create the FIPS code\n",
        "# Ensure both state and county codes are strings, and pad county codes to 3 digits\n",
        "all_data_expanded['FIPS'] = all_data_expanded['state'].str.zfill(2) + all_data_expanded['county'].str.zfill(3)\n",
        "\n",
        "# Drop the old 'state' and 'county' columns if you only need the FIPS code\n",
        "all_data_expanded = all_data_expanded.drop(columns=['state', 'county'])\n",
        "\n",
        "# Reorder columns if needed (FIPS, year, Quarter, percent_over_60)\n",
        "all_data_expanded = all_data_expanded[['FIPS', 'year', 'Quarter', 'percent_over_60']]\n",
        "\n",
        "# Display the resulting DataFrame\n",
        "print(all_data_expanded)\n"
      ],
      "metadata": {
        "id": "QAUyZTiZ80vS"
      },
      "execution_count": null,
      "outputs": []
    },
    {
      "cell_type": "markdown",
      "source": [],
      "metadata": {
        "id": "aDK6esnS8vpu"
      }
    }
  ]
}